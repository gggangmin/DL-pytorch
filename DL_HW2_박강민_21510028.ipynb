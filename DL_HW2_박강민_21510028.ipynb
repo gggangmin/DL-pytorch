{
 "cells": [
  {
   "cell_type": "code",
   "execution_count": 62,
   "metadata": {},
   "outputs": [
    {
     "name": "stdout",
     "output_type": "stream",
     "text": [
      "torch.Size([7352, 128, 9]) torch.Size([7352, 1])\n",
      "torch.Size([2947, 128, 9]) torch.Size([2947, 1])\n"
     ]
    }
   ],
   "source": [
    "import pandas as pd\n",
    "import numpy as np\n",
    "from torch.autograd import Variable\n",
    "import torch\n",
    "import torch.nn.functional as F\n",
    "import matplotlib.pyplot as plt\n",
    "from sklearn.metrics import confusion_matrix\n",
    "import seaborn as sn\n",
    "\n",
    "# load a single file as a numpy array\n",
    "def load_file(filepath):\n",
    "    dataframe = pd.read_csv(filepath, header=None, delim_whitespace=True)\n",
    "    return dataframe.values\n",
    "\n",
    "\n",
    "# load a list of files into a 3D array of [samples, timesteps, features]\n",
    "def load_group(filenames, prefix=''):\n",
    "    loaded = list()\n",
    "    for name in filenames:\n",
    "      data = load_file(prefix + name)\n",
    "      loaded.append(data)\n",
    "    # stack group so that features are the 3rd dimension\n",
    "    loaded = np.dstack(loaded)\n",
    "    return loaded\n",
    "\n",
    "\n",
    "# load a dataset group, such as train or test\n",
    "def load_dataset_group(group, prefix=''):\n",
    "    filepath = prefix + group + '/Inertial Signals/'\n",
    "    # load all 9 files as a single array\n",
    "    filenames = list()\n",
    "    # total acceleration\n",
    "    filenames += ['total_acc_x_'+group+'.txt', 'total_acc_y_'+group+'.txt', 'total_acc_z_'+group+'.txt']\n",
    "    # body acceleration\n",
    "    filenames += ['body_acc_x_'+group+'.txt', 'body_acc_y_'+group+'.txt', 'body_acc_z_'+group+'.txt']\n",
    "    # body gyroscope\n",
    "    filenames += ['body_gyro_x_'+group+'.txt', 'body_gyro_y_'+group+'.txt', 'body_gyro_z_'+group+'.txt']\n",
    "    # load input data\n",
    "    X = load_group(filenames, filepath)\n",
    "    # load class output\n",
    "    y = load_file(prefix + group + '/y_'+group+'.txt')\n",
    "    return X, y\n",
    "\n",
    "# load the dataset, returns train and test X and y elements\n",
    "def load_dataset(prefix=''):\n",
    "    # load all train\n",
    "    trainX, trainy = load_dataset_group('train', prefix + 'HARDataset/')\n",
    "    # load all test\n",
    "    testX, testy = load_dataset_group('test', prefix + 'HARDataset/')\n",
    "    # zero-offset class values\n",
    "    trainy = trainy - 1\n",
    "    testy = testy - 1\n",
    "    # one hot encode y\n",
    "\n",
    "    trainX = Variable(torch.Tensor(trainX))\n",
    "    trainy = Variable(torch.Tensor(trainy))\n",
    "    testX = Variable(torch.Tensor(testX))\n",
    "    testy = Variable(torch.Tensor(testy))\n",
    "    print(trainX.size(), trainy.size())\n",
    "    print(testX.size(), testy.size())\n",
    "    \n",
    "    return trainX, trainy, testX, testy\n",
    "    \n",
    "\n",
    "trainX, trainy, testX, testy = load_dataset('/home/proj01/dl_data/')\n",
    "\n"
   ]
  },
  {
   "cell_type": "code",
   "execution_count": 64,
   "metadata": {},
   "outputs": [],
   "source": [
    "import torch.nn as nn\n",
    "import torch\n",
    "\n",
    "class LSTM(nn.Module):\n",
    "    def __init__(self, num_classes, input_size, hidden_size, num_layers, seq_length) : \n",
    "        super(LSTM, self).__init__()\n",
    "        self.num_classes = num_classes\n",
    "        self.num_layers = num_layers\n",
    "        self.input_size = input_size\n",
    "        self.hidden_size = hidden_size\n",
    "        self.seq_length = seq_length\n",
    "        self.softmax = nn.Softmax(dim=1)\n",
    "\n",
    "        self.lstm = nn.LSTM(input_size = input_size, hidden_size = hidden_size, \n",
    "        num_layers = num_layers, batch_first = True)\n",
    "\n",
    "        self.fc_1 = nn.Linear(hidden_size, 128)\n",
    "        self.fc = nn.Linear(128, num_classes)\n",
    "\n",
    "        self.relu = nn.ReLU()\n",
    "\n",
    "    def forward(self,x):\n",
    "        h_0 = Variable(torch.zeros(self.num_layers, x.size(0), self.hidden_size)).to('cuda:0') \n",
    "        c_0 = Variable(torch.zeros(self.num_layers, x.size(0), self.hidden_size)).to('cuda:0') \n",
    "        output, (hn, cn) = self.lstm(x, (h_0, c_0))\n",
    "\n",
    "        hn = hn.view(-1, self.hidden_size) \n",
    "        out = self.relu(hn) \n",
    "        out = self.fc_1(out) \n",
    "        out = self.relu(out) \n",
    "        out = self.fc(out)\n",
    "        out = self.softmax(out)\n",
    "        return out\n",
    "\n",
    "class CNN(nn.Module):\n",
    "    def __init__(self, num_classes, num_channel):\n",
    "        super(CNN, self).__init__()\n",
    "        self.conv1 = nn.Conv1d(in_channels=num_channel, out_channels=3, kernel_size=32, stride=1)\n",
    "        self.conv2 = nn.Conv1d(in_channels=3, out_channels=10, kernel_size=16, stride=1)\n",
    "        self.fc1 = nn.Linear(10 * 82, 50)\n",
    "        self.fc2 = nn.Linear(50, num_classes)\n",
    "        self.softmax = nn.Softmax(dim=1)\n",
    "      \n",
    "    def forward(self, x):\n",
    "        x = F.relu(self.conv1(x))\n",
    "        x = F.relu(self.conv2(x))\n",
    "        x = x.view(-1, 10 * 82)\n",
    "        x = F.relu(self.fc1(x))\n",
    "        x = self.fc2(x)\n",
    "        x = self.softmax(x)\n",
    "        return x\n"
   ]
  },
  {
   "cell_type": "code",
   "execution_count": 92,
   "metadata": {},
   "outputs": [],
   "source": [
    "# lstm parameters\n",
    "epochs = 1000\n",
    "learning_rate = 0.001\n",
    "input_size = 9\n",
    "hidden_size = 2\n",
    "num_layers = 1\n",
    "num_classes = 6\n",
    "sequence_length = 128\n",
    "\n",
    "lstm = LSTM(num_classes,input_size, hidden_size, num_layers, sequence_length).to('cuda:0')\n",
    "\n",
    "loss_function = torch.nn.CrossEntropyLoss().to('cuda:0')\n",
    "optimizer = torch.optim.Adam(lstm.parameters(), lr=learning_rate)"
   ]
  },
  {
   "cell_type": "code",
   "execution_count": 93,
   "metadata": {
    "scrolled": true
   },
   "outputs": [
    {
     "name": "stdout",
     "output_type": "stream",
     "text": [
      "Epoch : 0, loss : 1.79088\n",
      "Epoch : 10, loss : 1.78800\n",
      "Epoch : 20, loss : 1.78620\n",
      "Epoch : 30, loss : 1.78500\n",
      "Epoch : 40, loss : 1.78403\n",
      "Epoch : 50, loss : 1.78284\n",
      "Epoch : 60, loss : 1.78090\n",
      "Epoch : 70, loss : 1.77765\n",
      "Epoch : 80, loss : 1.77230\n",
      "Epoch : 90, loss : 1.76388\n",
      "Epoch : 100, loss : 1.75106\n",
      "Epoch : 110, loss : 1.73263\n",
      "Epoch : 120, loss : 1.70908\n",
      "Epoch : 130, loss : 1.68373\n",
      "Epoch : 140, loss : 1.66141\n",
      "Epoch : 150, loss : 1.64486\n",
      "Epoch : 160, loss : 1.63381\n",
      "Epoch : 170, loss : 1.62607\n",
      "Epoch : 180, loss : 1.62003\n",
      "Epoch : 190, loss : 1.61488\n",
      "Epoch : 200, loss : 1.60998\n",
      "Epoch : 210, loss : 1.60487\n",
      "Epoch : 220, loss : 1.59937\n",
      "Epoch : 230, loss : 1.59330\n",
      "Epoch : 240, loss : 1.58652\n",
      "Epoch : 250, loss : 1.57912\n",
      "Epoch : 260, loss : 1.57120\n",
      "Epoch : 270, loss : 1.56290\n",
      "Epoch : 280, loss : 1.55432\n",
      "Epoch : 290, loss : 1.54559\n",
      "Epoch : 300, loss : 1.53680\n",
      "Epoch : 310, loss : 1.52801\n",
      "Epoch : 320, loss : 1.51918\n",
      "Epoch : 330, loss : 1.51031\n",
      "Epoch : 340, loss : 1.50139\n",
      "Epoch : 350, loss : 1.49231\n",
      "Epoch : 360, loss : 1.48300\n",
      "Epoch : 370, loss : 1.47345\n",
      "Epoch : 380, loss : 1.46413\n",
      "Epoch : 390, loss : 1.45595\n",
      "Epoch : 400, loss : 1.44901\n",
      "Epoch : 410, loss : 1.44288\n",
      "Epoch : 420, loss : 1.43739\n",
      "Epoch : 430, loss : 1.43251\n",
      "Epoch : 440, loss : 1.42819\n",
      "Epoch : 450, loss : 1.42436\n",
      "Epoch : 460, loss : 1.42087\n",
      "Epoch : 470, loss : 1.41767\n",
      "Epoch : 480, loss : 1.41452\n",
      "Epoch : 490, loss : 1.41167\n",
      "Epoch : 500, loss : 1.40921\n",
      "Epoch : 510, loss : 1.40706\n",
      "Epoch : 520, loss : 1.40511\n",
      "Epoch : 530, loss : 1.40336\n",
      "Epoch : 540, loss : 1.40177\n",
      "Epoch : 550, loss : 1.40033\n",
      "Epoch : 560, loss : 1.39900\n",
      "Epoch : 570, loss : 1.39805\n",
      "Epoch : 580, loss : 1.39670\n",
      "Epoch : 590, loss : 1.39568\n",
      "Epoch : 600, loss : 1.39469\n",
      "Epoch : 610, loss : 1.39381\n",
      "Epoch : 620, loss : 1.39297\n",
      "Epoch : 630, loss : 1.39217\n",
      "Epoch : 640, loss : 1.39239\n",
      "Epoch : 650, loss : 1.39128\n",
      "Epoch : 660, loss : 1.39039\n",
      "Epoch : 670, loss : 1.38974\n",
      "Epoch : 680, loss : 1.38915\n",
      "Epoch : 690, loss : 1.38857\n",
      "Epoch : 700, loss : 1.38797\n",
      "Epoch : 710, loss : 1.38734\n",
      "Epoch : 720, loss : 1.38689\n",
      "Epoch : 730, loss : 1.38634\n",
      "Epoch : 740, loss : 1.38583\n",
      "Epoch : 750, loss : 1.38535\n",
      "Epoch : 760, loss : 1.38491\n",
      "Epoch : 770, loss : 1.38449\n",
      "Epoch : 780, loss : 1.38410\n",
      "Epoch : 790, loss : 1.38372\n",
      "Epoch : 800, loss : 1.38349\n",
      "Epoch : 810, loss : 1.38313\n",
      "Epoch : 820, loss : 1.38278\n",
      "Epoch : 830, loss : 1.38244\n",
      "Epoch : 840, loss : 1.38211\n",
      "Epoch : 850, loss : 1.38178\n",
      "Epoch : 860, loss : 1.38259\n",
      "Epoch : 870, loss : 1.38182\n",
      "Epoch : 880, loss : 1.38107\n",
      "Epoch : 890, loss : 1.38050\n",
      "Epoch : 900, loss : 1.38014\n",
      "Epoch : 910, loss : 1.37984\n",
      "Epoch : 920, loss : 1.37956\n",
      "Epoch : 930, loss : 1.37929\n",
      "Epoch : 940, loss : 1.37904\n",
      "Epoch : 950, loss : 1.37880\n",
      "Epoch : 960, loss : 1.37856\n",
      "Epoch : 970, loss : 1.37833\n",
      "Epoch : 980, loss : 1.37811\n",
      "Epoch : 990, loss : 1.37790\n"
     ]
    }
   ],
   "source": [
    "# lstm train\n",
    "lstm.train()\n",
    "lstm_losses = []\n",
    "for e in range(epochs):\n",
    "  outputs = lstm.forward(trainX.to('cuda:0'))\n",
    "  optimizer.zero_grad()\n",
    "\n",
    "  loss = loss_function(outputs,trainy.squeeze(dim=1).type(torch.LongTensor).to('cuda:0'))\n",
    "  \n",
    "  loss.backward()\n",
    "\n",
    "  optimizer.step()\n",
    "\n",
    "  if e%10 == 0:\n",
    "    print(\"Epoch : %d, loss : %1.5f\" % (e, loss.item()))\n",
    "    lstm_losses.append(loss.item())"
   ]
  },
  {
   "cell_type": "code",
   "execution_count": 94,
   "metadata": {},
   "outputs": [
    {
     "name": "stdout",
     "output_type": "stream",
     "text": [
      "tensor(1.4208, device='cuda:0', grad_fn=<NllLossBackward0>) tensor(0.6250)\n"
     ]
    }
   ],
   "source": [
    "# lstm eval\n",
    "def accuracy(outputs, labels):\n",
    "  _,preds = torch.max(outputs,dim=1)\n",
    "  return torch.tensor(torch.sum(preds==labels).item()/len(preds))\n",
    "\n",
    "lstm.eval()\n",
    "lstm_out = lstm(testX.to('cuda:0'))\n",
    "\n",
    "loss = loss_function(lstm_out,testy.squeeze(dim=1).type(torch.LongTensor).to('cuda:0'))\n",
    "acc = accuracy(lstm_out,testy.squeeze(dim=1).type(torch.LongTensor).to('cuda:0'))\n",
    "\n",
    "print(loss,acc)"
   ]
  },
  {
   "cell_type": "code",
   "execution_count": 98,
   "metadata": {},
   "outputs": [],
   "source": [
    "# cnn parameters\n",
    "epochs = 1000\n",
    "learning_rate = 0.001\n",
    "input_size = 9\n",
    "hidden_size = 2\n",
    "num_layers = 1\n",
    "num_classes = 6\n",
    "sequence_length = 128\n",
    "num_channel = 9 # for cnn\n",
    "\n",
    "cnn = CNN(num_classes,num_channel).to('cuda:0')\n",
    "\n",
    "loss_function = torch.nn.CrossEntropyLoss().to('cuda:0')\n",
    "optimizer = torch.optim.Adam(cnn.parameters(), lr=learning_rate)"
   ]
  },
  {
   "cell_type": "code",
   "execution_count": 99,
   "metadata": {
    "scrolled": true
   },
   "outputs": [
    {
     "name": "stdout",
     "output_type": "stream",
     "text": [
      "Epoch : 0, loss : 1.79211\n",
      "Epoch : 10, loss : 1.75615\n",
      "Epoch : 20, loss : 1.63434\n",
      "Epoch : 30, loss : 1.53445\n",
      "Epoch : 40, loss : 1.41956\n",
      "Epoch : 50, loss : 1.30189\n",
      "Epoch : 60, loss : 1.23703\n",
      "Epoch : 70, loss : 1.20252\n",
      "Epoch : 80, loss : 1.18123\n",
      "Epoch : 90, loss : 1.14890\n",
      "Epoch : 100, loss : 1.12525\n",
      "Epoch : 110, loss : 1.11592\n",
      "Epoch : 120, loss : 1.10957\n",
      "Epoch : 130, loss : 1.10524\n",
      "Epoch : 140, loss : 1.10207\n",
      "Epoch : 150, loss : 1.09972\n",
      "Epoch : 160, loss : 1.09796\n",
      "Epoch : 170, loss : 1.09664\n",
      "Epoch : 180, loss : 1.09565\n",
      "Epoch : 190, loss : 1.09492\n",
      "Epoch : 200, loss : 1.09433\n",
      "Epoch : 210, loss : 1.09382\n",
      "Epoch : 220, loss : 1.09337\n",
      "Epoch : 230, loss : 1.09299\n",
      "Epoch : 240, loss : 1.09267\n",
      "Epoch : 250, loss : 1.09240\n",
      "Epoch : 260, loss : 1.09214\n",
      "Epoch : 270, loss : 1.09192\n",
      "Epoch : 280, loss : 1.09172\n",
      "Epoch : 290, loss : 1.09155\n",
      "Epoch : 300, loss : 1.09140\n",
      "Epoch : 310, loss : 1.09126\n",
      "Epoch : 320, loss : 1.09113\n",
      "Epoch : 330, loss : 1.09101\n",
      "Epoch : 340, loss : 1.09094\n",
      "Epoch : 350, loss : 1.09087\n",
      "Epoch : 360, loss : 1.09078\n",
      "Epoch : 370, loss : 1.09062\n",
      "Epoch : 380, loss : 1.09060\n",
      "Epoch : 390, loss : 1.09048\n",
      "Epoch : 400, loss : 1.09038\n",
      "Epoch : 410, loss : 1.09034\n",
      "Epoch : 420, loss : 1.09045\n",
      "Epoch : 430, loss : 1.09020\n",
      "Epoch : 440, loss : 1.09015\n",
      "Epoch : 450, loss : 1.09005\n",
      "Epoch : 460, loss : 1.09028\n",
      "Epoch : 470, loss : 1.09008\n",
      "Epoch : 480, loss : 1.08992\n",
      "Epoch : 490, loss : 1.08986\n",
      "Epoch : 500, loss : 1.08983\n",
      "Epoch : 510, loss : 1.08984\n",
      "Epoch : 520, loss : 1.08980\n",
      "Epoch : 530, loss : 1.08969\n",
      "Epoch : 540, loss : 1.08959\n",
      "Epoch : 550, loss : 1.08960\n",
      "Epoch : 560, loss : 1.08978\n",
      "Epoch : 570, loss : 1.08961\n",
      "Epoch : 580, loss : 1.08944\n",
      "Epoch : 590, loss : 1.08947\n",
      "Epoch : 600, loss : 1.08954\n",
      "Epoch : 610, loss : 1.08939\n",
      "Epoch : 620, loss : 1.08918\n",
      "Epoch : 630, loss : 1.08927\n",
      "Epoch : 640, loss : 1.08434\n",
      "Epoch : 650, loss : 1.08457\n",
      "Epoch : 660, loss : 1.08412\n",
      "Epoch : 670, loss : 1.08397\n",
      "Epoch : 680, loss : 1.08391\n",
      "Epoch : 690, loss : 1.08385\n",
      "Epoch : 700, loss : 1.08383\n",
      "Epoch : 710, loss : 1.08382\n",
      "Epoch : 720, loss : 1.08383\n",
      "Epoch : 730, loss : 1.08377\n",
      "Epoch : 740, loss : 1.08376\n",
      "Epoch : 750, loss : 1.08381\n",
      "Epoch : 760, loss : 1.08371\n",
      "Epoch : 770, loss : 1.08372\n",
      "Epoch : 780, loss : 1.08374\n",
      "Epoch : 790, loss : 1.08364\n",
      "Epoch : 800, loss : 1.08372\n",
      "Epoch : 810, loss : 1.08362\n",
      "Epoch : 820, loss : 1.08366\n",
      "Epoch : 830, loss : 1.08358\n",
      "Epoch : 840, loss : 1.08364\n",
      "Epoch : 850, loss : 1.08355\n",
      "Epoch : 860, loss : 1.08356\n",
      "Epoch : 870, loss : 1.08353\n",
      "Epoch : 880, loss : 1.08349\n",
      "Epoch : 890, loss : 1.08380\n",
      "Epoch : 900, loss : 1.08340\n",
      "Epoch : 910, loss : 1.08340\n",
      "Epoch : 920, loss : 1.08337\n",
      "Epoch : 930, loss : 1.08333\n",
      "Epoch : 940, loss : 1.08331\n",
      "Epoch : 950, loss : 1.08327\n",
      "Epoch : 960, loss : 1.08319\n",
      "Epoch : 970, loss : 1.08316\n",
      "Epoch : 980, loss : 1.08330\n",
      "Epoch : 990, loss : 1.08311\n"
     ]
    }
   ],
   "source": [
    "# cnn train\n",
    "cnn.train()\n",
    "cnn_losses = []\n",
    "for e in range(epochs):\n",
    "  outputs = cnn.forward(trainX.transpose(1,2).to('cuda:0'))\n",
    "  optimizer.zero_grad()\n",
    "\n",
    "  loss = loss_function(outputs,trainy.squeeze(dim=1).type(torch.LongTensor).to('cuda:0'))\n",
    "  \n",
    "  loss.backward()\n",
    "\n",
    "  optimizer.step()\n",
    "\n",
    "  if e%10 == 0:\n",
    "    print(\"Epoch : %d, loss : %1.5f\" % (e, loss.item()))\n",
    "    cnn_losses.append(loss.item())"
   ]
  },
  {
   "cell_type": "code",
   "execution_count": 102,
   "metadata": {
    "scrolled": true
   },
   "outputs": [
    {
     "name": "stdout",
     "output_type": "stream",
     "text": [
      "tensor(1.1641, device='cuda:0', grad_fn=<NllLossBackward0>) tensor(0.8785)\n"
     ]
    }
   ],
   "source": [
    "# cnn eval\n",
    "def accuracy(outputs, labels):\n",
    "  _,preds = torch.max(outputs,dim=1)\n",
    "  return torch.tensor(torch.sum(preds==labels).item()/len(preds))\n",
    "\n",
    "cnn.eval()\n",
    "cnn_out = cnn(testX.transpose(1,2).to('cuda:0'))\n",
    "\n",
    "loss = loss_function(cnn_out,testy.squeeze(dim=1).type(torch.LongTensor).to('cuda:0'))\n",
    "acc = accuracy(cnn_out,testy.squeeze(dim=1).type(torch.LongTensor).to('cuda:0'))\n",
    "\n",
    "print(loss,acc)"
   ]
  },
  {
   "cell_type": "code",
   "execution_count": 103,
   "metadata": {},
   "outputs": [
    {
     "data": {
      "image/png": "[encoded data removed]",
      "text/plain": [
       "<Figure size 432x288 with 1 Axes>"
      ]
     },
     "metadata": {
      "needs_background": "light"
     },
     "output_type": "display_data"
    },
    {
     "data": {
      "image/png": "[encoded data removed]",
      "text/plain": [
       "<Figure size 864x504 with 2 Axes>"
      ]
     },
     "metadata": {
      "needs_background": "light"
     },
     "output_type": "display_data"
    },
    {
     "data": {
      "image/png": "[encoded data removed]",
      "text/plain": [
       "<Figure size 432x288 with 1 Axes>"
      ]
     },
     "metadata": {
      "needs_background": "light"
     },
     "output_type": "display_data"
    },
    {
     "data": {
      "image/png": "[encoded data removed]",
      "text/plain": [
       "<Figure size 864x504 with 2 Axes>"
      ]
     },
     "metadata": {
      "needs_background": "light"
     },
     "output_type": "display_data"
    }
   ],
   "source": [
    "def graph(name,losses,preds,label,name_classes):\n",
    "    plt.plot(losses, '-x',label='train')\n",
    "    plt.xlabel('epoch')\n",
    "    plt.ylabel('loss')\n",
    "    plt.title(name)\n",
    "    plt.legend()\n",
    "    plt.show()\n",
    "    cf_matrix = confusion_matrix(label.squeeze(dim=1).detach().numpy(),torch.max(preds,1)[1].cpu().detach().numpy())\n",
    "    df_cm = pd.DataFrame(cf_matrix/np.sum(cf_matrix)*len(name_classes), index = name_classes, columns = name_classes)\n",
    "    plt.figure(figsize = (12,7))\n",
    "    sn.heatmap(df_cm,annot=True)\n",
    "    plt.show()\n",
    "\n",
    "name_classes = ['Walking','WalkingUpstairs','WalkingDownstairs','Sitting','Standing','Laying']\n",
    "graph('LSTM',lstm_losses,lstm_out,testy,name_classes)\n",
    "graph('CNN',cnn_losses,cnn_out,testy,name_classes)"
   ]
  },
  {
   "cell_type": "code",
   "execution_count": null,
   "metadata": {},
   "outputs": [],
   "source": []
  }
 ],
 "metadata": {
  "interpreter": {
   "hash": "1609c5d6daf415add5fd1f90da23d5406f9079b60a4e5640100862a3157a35d6"
  },
  "kernelspec": {
   "display_name": "t",
   "language": "python",
   "name": "t"
  },
  "language_info": {
   "codemirror_mode": {
    "name": "ipython",
    "version": 3
   },
   "file_extension": ".py",
   "mimetype": "text/x-python",
   "name": "python",
   "nbconvert_exporter": "python",
   "pygments_lexer": "ipython3",
   "version": "3.7.11"
  }
 },
 "nbformat": 4,
 "nbformat_minor": 2
}
